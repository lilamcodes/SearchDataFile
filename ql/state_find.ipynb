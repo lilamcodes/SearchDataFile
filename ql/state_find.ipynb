{
 "cells": [
  {
   "cell_type": "code",
   "execution_count": 2,
   "metadata": {},
   "outputs": [],
   "source": [
    "import pandas as pd\n",
    "from IPython.display import display, HTML\n",
    "import csv\n"
   ]
  },
  {
   "cell_type": "code",
   "execution_count": 3,
   "metadata": {},
   "outputs": [],
   "source": [
    "def find_states():\n",
    "    ## This function loads all chat transcripts, a list of agent names,\n",
    "    ## and saves a new file with only chat lines from customers\n",
    "\n",
    "    # import data file from csv in same directory as this file\n",
    "    df = pd.read_csv('df2.csv')\n",
    "    pd.set_option('max_colwidth', 250)\n",
    "\n",
    "    # drop null rows\n",
    "    temp_df = df[df.notnull()]\n",
    "\n",
    "    # read in list of names extracted from August Transcript List column F\n",
    "    states = pd.read_csv('states.csv', header=None)\n",
    "    states.columns = ['state']  # rename column\n",
    "\n",
    "    # create regex pattern of every agent name as an 'or' condition\n",
    "    pattern = '|'.join(states.state)\n",
    "\n",
    "    # drop rows that contain agent name ('~' flips boolean values, so we can drop the matches)\n",
    "    check = temp_df[~temp_df.Text.str.contains(pattern, regex=True, na=False)]\n",
    "\n",
    "    # save to file\n",
    "    check.to_csv('states_results.csv', encoding='utf-8', quoting=csv.QUOTE_ALL, index=True)\n",
    "\n",
    "\n"
   ]
  },
  {
   "cell_type": "code",
   "execution_count": 4,
   "metadata": {},
   "outputs": [
    {
     "ename": "NameError",
     "evalue": "name 'find_states' is not defined",
     "output_type": "error",
     "traceback": [
      "\u001b[0;31m---------------------------------------------------------------------------\u001b[0m",
      "\u001b[0;31mNameError\u001b[0m                                 Traceback (most recent call last)",
      "\u001b[0;32m<ipython-input-4-30b59a2fb0e0>\u001b[0m in \u001b[0;36m<module>\u001b[0;34m()\u001b[0m\n\u001b[1;32m      1\u001b[0m \u001b[0;31m# call function\u001b[0m\u001b[0;34m\u001b[0m\u001b[0;34m\u001b[0m\u001b[0m\n\u001b[0;32m----> 2\u001b[0;31m \u001b[0mfind_states\u001b[0m\u001b[0;34m(\u001b[0m\u001b[0;34m)\u001b[0m\u001b[0;34m\u001b[0m\u001b[0m\n\u001b[0m",
      "\u001b[0;31mNameError\u001b[0m: name 'find_states' is not defined"
     ]
    }
   ],
   "source": [
    "# call function\n",
    "find_states()"
   ]
  },
  {
   "cell_type": "code",
   "execution_count": null,
   "metadata": {},
   "outputs": [],
   "source": [
    "#output df, use\n",
    "#df.to_csv('output', index=False)"
   ]
  },
  {
   "cell_type": "code",
   "execution_count": null,
   "metadata": {},
   "outputs": [],
   "source": [
    "#check which columns have null\n",
    "#df.isnull().sum()\n",
    "#results show usertype and birthyear has alot of nulls.  \n",
    "#I will keep that in mind and figure out what needs to be done depending on the case.\n"
   ]
  },
  {
   "cell_type": "code",
   "execution_count": null,
   "metadata": {},
   "outputs": [],
   "source": [
    "#libraries that contain methods to help preprocess data\n",
    "from sklearn.preprocessing import Imputer\n",
    "imputer = Imputer(missing_values = 'NaN', )"
   ]
  },
  {
   "cell_type": "code",
   "execution_count": null,
   "metadata": {},
   "outputs": [],
   "source": [
    "#Double check that birthyear only includes values from 1918-2017 now\n",
    "#dftest=(df.birthyear)\n",
    "#dftest.shape"
   ]
  },
  {
   "cell_type": "code",
   "execution_count": null,
   "metadata": {},
   "outputs": [],
   "source": [
    "#Checking that there is no birthyears before 1918 now\n",
    "#dftest.sort_values()"
   ]
  },
  {
   "cell_type": "code",
   "execution_count": null,
   "metadata": {},
   "outputs": [],
   "source": [
    "#checking that birthyear as more NaNs now\n",
    "#df.isnull().sum()"
   ]
  },
  {
   "cell_type": "code",
   "execution_count": null,
   "metadata": {},
   "outputs": [],
   "source": [
    "#Now and output to a new file so I don't have to run this notebook again.\n",
    "df.to_csv('fulldf.csv')"
   ]
  },
  {
   "cell_type": "code",
   "execution_count": null,
   "metadata": {},
   "outputs": [],
   "source": []
  }
 ],
 "metadata": {
  "anaconda-cloud": {},
  "kernelspec": {
   "display_name": "Python 3",
   "language": "python",
   "name": "python3"
  },
  "language_info": {
   "codemirror_mode": {
    "name": "ipython",
    "version": 3
   },
   "file_extension": ".py",
   "mimetype": "text/x-python",
   "name": "python",
   "nbconvert_exporter": "python",
   "pygments_lexer": "ipython3",
   "version": "3.6.5"
  }
 },
 "nbformat": 4,
 "nbformat_minor": 1
}
