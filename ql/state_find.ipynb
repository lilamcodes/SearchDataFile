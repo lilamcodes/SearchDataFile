{
 "cells": [
  {
   "cell_type": "code",
   "execution_count": 44,
   "metadata": {},
   "outputs": [],
   "source": [
    "import pandas as pd\n",
    "from IPython.display import display, HTML\n",
    "import csv\n",
    "\n",
    "from sklearn.preprocessing import Imputer\n",
    "imputer = Imputer(missing_values = 'NaN', )"
   ]
  },
  {
   "cell_type": "code",
   "execution_count": 45,
   "metadata": {},
   "outputs": [],
   "source": [
    "#df = pd.read_csv('df2.csv')\n",
    "\n",
    "#pd.set_option('max_colwidth', 250)\n",
    "#temp_df = df[df.notnull()]\n",
    "#temp_df.columns = ['0','Transcript'] \n",
    "\n",
    "#list(temp_df.columns.values)"
   ]
  },
  {
   "cell_type": "code",
   "execution_count": 46,
   "metadata": {},
   "outputs": [],
   "source": [
    "#file is states.csv ;  column is state\n",
    "\n",
    "def find_states():\n",
    "    ## This function loads all chat transcripts, a list of agent names,\n",
    "    ## and saves a new file with only chat lines from customers\n",
    "\n",
    "    # import data file from csv in same directory as this file\n",
    "    df = pd.read_csv('df2.csv')\n",
    "    pd.set_option('max_colwidth', 250)\n",
    "\n",
    "    # drop null rows\n",
    "    temp_df = df[df.notnull()]\n",
    "    temp_df.columns = ['0','Transcript'] \n",
    "\n",
    "    # read in list of names extracted from August Transcript List column F\n",
    "    states = pd.read_csv('states.csv', header=None)\n",
    "    states.columns = ['state']  # rename column\n",
    "\n",
    "    # create regex pattern of every agent name as an 'or' condition\n",
    "    pattern = '|'.join(states.state)\n",
    "\n",
    "    # drop rows that contain agent name ('~' flips boolean values, so we can drop the matches)\n",
    "    check = temp_df[~temp_df.Transcript.str.contains(pattern, regex=True, na=False)]\n",
    "\n",
    "    # save to file\n",
    "    check.to_csv('states_results.csv', encoding='utf-8', quoting=csv.QUOTE_ALL, index=True)\n",
    "\n",
    "\n"
   ]
  },
  {
   "cell_type": "code",
   "execution_count": 47,
   "metadata": {},
   "outputs": [
    {
     "data": {
      "text/plain": [
       "['0', 'Transcript']"
      ]
     },
     "execution_count": 47,
     "metadata": {},
     "output_type": "execute_result"
    }
   ],
   "source": [
    "list(temp_df.columns.values)"
   ]
  },
  {
   "cell_type": "code",
   "execution_count": 48,
   "metadata": {},
   "outputs": [],
   "source": [
    "# call function\n",
    "find_states()"
   ]
  },
  {
   "cell_type": "code",
   "execution_count": 49,
   "metadata": {},
   "outputs": [],
   "source": [
    "#Now and output to a new file so I don't have to run this notebook again.\n",
    "df.to_csv('states_results.csv')"
   ]
  },
  {
   "cell_type": "code",
   "execution_count": null,
   "metadata": {},
   "outputs": [],
   "source": []
  }
 ],
 "metadata": {
  "anaconda-cloud": {},
  "kernelspec": {
   "display_name": "Python 3",
   "language": "python",
   "name": "python3"
  },
  "language_info": {
   "codemirror_mode": {
    "name": "ipython",
    "version": 3
   },
   "file_extension": ".py",
   "mimetype": "text/x-python",
   "name": "python",
   "nbconvert_exporter": "python",
   "pygments_lexer": "ipython3",
   "version": "3.6.5"
  }
 },
 "nbformat": 4,
 "nbformat_minor": 1
}
