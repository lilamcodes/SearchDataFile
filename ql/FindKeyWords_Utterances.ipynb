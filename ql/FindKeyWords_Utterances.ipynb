{
 "cells": [
  {
   "cell_type": "code",
   "execution_count": 34,
   "metadata": {
    "scrolled": true
   },
   "outputs": [],
   "source": [
    "import pandas as pd\n",
    "from IPython.display import display, HTML\n",
    "import csv\n",
    "\n",
    "\n"
   ]
  },
  {
   "cell_type": "code",
   "execution_count": 35,
   "metadata": {},
   "outputs": [],
   "source": [
    "df = pd.read_csv('df2.csv')\n",
    "pd.set_option('max_colwidth', 300)\n",
    "outDf = pd.DataFrame()\n",
    "\n",
    "temp_df = df[df.notnull()]"
   ]
  },
  {
   "cell_type": "code",
   "execution_count": 1,
   "metadata": {},
   "outputs": [],
   "source": [
    "temp_df.columns = ['remove','Text']\n",
    "temp_df.head()"
   ]
  },
  {
   "cell_type": "code",
   "execution_count": 37,
   "metadata": {},
   "outputs": [
    {
     "data": {
      "text/plain": [
       "['remove', 'Text']"
      ]
     },
     "execution_count": 37,
     "metadata": {},
     "output_type": "execute_result"
    }
   ],
   "source": [
    "list(temp_df.columns.values)"
   ]
  },
  {
   "cell_type": "code",
   "execution_count": 38,
   "metadata": {},
   "outputs": [],
   "source": [
    "#temp_df.drop(temp_df.columns.difference(['Transcript']), inplace=True)\n",
    "temp_df = temp_df['Text']"
   ]
  },
  {
   "cell_type": "code",
   "execution_count": 2,
   "metadata": {},
   "outputs": [],
   "source": [
    "#temp_df.head()"
   ]
  },
  {
   "cell_type": "code",
   "execution_count": 40,
   "metadata": {},
   "outputs": [],
   "source": [
    "#Review the data file you are trying to filter, and specify the columnts needed\n",
    "#make sure your log file is in the same folder as your jupyter notebook\n",
    "\n",
    "#required_columns =['Transcript]\n",
    "#df = pd.read_csv('df2.csv')[required_columns]\n",
    "\n",
    "\n",
    "\n",
    "#temp_df = df[df.Transcript.notnull()]"
   ]
  },
  {
   "cell_type": "code",
   "execution_count": 41,
   "metadata": {
    "scrolled": false
   },
   "outputs": [],
   "source": [
    "#Filter results that includes:\n",
    "\n",
    "    #More than one word:\n",
    "\n",
    "#filtered_df = temp_df[(temp_df.Transcript.str.contains(\"(?i)key_word1\", regex=True))&\n",
    "#                          (temp_df.Transcript.str.contains(\"(?i)key_word2\", regex=True))]\n",
    "\n",
    "    \n",
    "    # Word1 OR Word2:\n",
    "    #You can take the results from filter_df, and further filter it\n",
    "\n",
    "#filtered3_df=temp_df[(temp_df.Transcript.str.contains(\"(?i)how long\", regex=True))|\n",
    "#                       (temp_df.Transcript.str.contains(\"(?i)how much time\", regex=True))]\n",
    "                                         \n",
    "    #Or lines that exclude specific words:\n",
    "##Filter results that exclude the specified key word\n",
    "#filtered2_df=temp_df[(temp_df.Transcript.str.contains(\"(?i)fast\", regex=True)==False)]\n",
    "\n",
    "#-------------------------------------------------------------------------------------------------------\n",
    "#Searching for intent #Greeting:\n",
    "\n",
    "filtered_df=temp_df[(temp_df.str.contains(\"(?i)hi\", regex=True))|\n",
    "                       (temp_df.str.contains(\"(?i)hello\", regex=True))|\n",
    "                       (temp_df.str.contains(\"(?i)greeting\", regex=True))|\n",
    "                       (temp_df.str.contains(\"(?i)hey\", regex=True))]\n",
    "\n"
   ]
  },
  {
   "cell_type": "code",
   "execution_count": 3,
   "metadata": {},
   "outputs": [],
   "source": [
    "display (filtered_df)"
   ]
  },
  {
   "cell_type": "code",
   "execution_count": 43,
   "metadata": {},
   "outputs": [],
   "source": [
    "#print the results\n",
    "\n",
    "df_part = filtered_df.to_frame()\n",
    "df_part['intent'] = 'greeting'\n",
    "\n",
    "#df_part['Response'] = ' '\n",
    "\n",
    "outDf = outDf.append(df_part)"
   ]
  },
  {
   "cell_type": "code",
   "execution_count": 44,
   "metadata": {},
   "outputs": [],
   "source": [
    "outDf.rename(columns={'Utterance': 'utterance'}, inplace=True)\n",
    "outDf.to_csv('1.csv', encoding='utf-8', quoting=csv.QUOTE_ALL, index=False)"
   ]
  },
  {
   "cell_type": "code",
   "execution_count": null,
   "metadata": {},
   "outputs": [],
   "source": []
  }
 ],
 "metadata": {
  "anaconda-cloud": {},
  "kernelspec": {
   "display_name": "Python 3",
   "language": "python",
   "name": "python3"
  },
  "language_info": {
   "codemirror_mode": {
    "name": "ipython",
    "version": 3
   },
   "file_extension": ".py",
   "mimetype": "text/x-python",
   "name": "python",
   "nbconvert_exporter": "python",
   "pygments_lexer": "ipython3",
   "version": "3.6.5"
  }
 },
 "nbformat": 4,
 "nbformat_minor": 2
}
